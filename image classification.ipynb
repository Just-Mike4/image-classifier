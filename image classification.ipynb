{
 "cells": [
  {
   "cell_type": "code",
   "execution_count": 1,
   "id": "07ed2579",
   "metadata": {},
   "outputs": [],
   "source": [
    "import numpy as np\n",
    "import os\n",
    "import pandas as pd\n",
    "import PIL\n",
    "import matplotlib.pyplot as plt"
   ]
  },
  {
   "cell_type": "code",
   "execution_count": 2,
   "id": "82f57fab",
   "metadata": {},
   "outputs": [],
   "source": [
    "image_path=r\"C:\\Users\\USER\\Desktop\\Image classification\\train\"\n",
    "file_path=[os.path.join(image_path,i) for i in os.listdir(image_path)]"
   ]
  },
  {
   "cell_type": "code",
   "execution_count": 3,
   "id": "0d8fef32",
   "metadata": {},
   "outputs": [],
   "source": [
    "labels=[i for i in os.listdir(image_path)]\n",
    "targets=[i.split(\".\")[0] for i in labels]\n",
    "y=targets"
   ]
  },
  {
   "cell_type": "code",
   "execution_count": 4,
   "id": "8ac4e92d",
   "metadata": {},
   "outputs": [],
   "source": [
    "data=pd.DataFrame({\"Pictures\":file_path,\"Names\":targets})"
   ]
  },
  {
   "cell_type": "code",
   "execution_count": 5,
   "id": "3b689c11",
   "metadata": {},
   "outputs": [
    {
     "data": {
      "text/html": [
       "<div>\n",
       "<style scoped>\n",
       "    .dataframe tbody tr th:only-of-type {\n",
       "        vertical-align: middle;\n",
       "    }\n",
       "\n",
       "    .dataframe tbody tr th {\n",
       "        vertical-align: top;\n",
       "    }\n",
       "\n",
       "    .dataframe thead th {\n",
       "        text-align: right;\n",
       "    }\n",
       "</style>\n",
       "<table border=\"1\" class=\"dataframe\">\n",
       "  <thead>\n",
       "    <tr style=\"text-align: right;\">\n",
       "      <th></th>\n",
       "      <th>Pictures</th>\n",
       "      <th>Names</th>\n",
       "    </tr>\n",
       "  </thead>\n",
       "  <tbody>\n",
       "    <tr>\n",
       "      <th>0</th>\n",
       "      <td>C:\\Users\\USER\\Desktop\\Image classification\\tra...</td>\n",
       "      <td>cat</td>\n",
       "    </tr>\n",
       "    <tr>\n",
       "      <th>1</th>\n",
       "      <td>C:\\Users\\USER\\Desktop\\Image classification\\tra...</td>\n",
       "      <td>cat</td>\n",
       "    </tr>\n",
       "    <tr>\n",
       "      <th>2</th>\n",
       "      <td>C:\\Users\\USER\\Desktop\\Image classification\\tra...</td>\n",
       "      <td>cat</td>\n",
       "    </tr>\n",
       "    <tr>\n",
       "      <th>3</th>\n",
       "      <td>C:\\Users\\USER\\Desktop\\Image classification\\tra...</td>\n",
       "      <td>cat</td>\n",
       "    </tr>\n",
       "    <tr>\n",
       "      <th>4</th>\n",
       "      <td>C:\\Users\\USER\\Desktop\\Image classification\\tra...</td>\n",
       "      <td>cat</td>\n",
       "    </tr>\n",
       "    <tr>\n",
       "      <th>...</th>\n",
       "      <td>...</td>\n",
       "      <td>...</td>\n",
       "    </tr>\n",
       "    <tr>\n",
       "      <th>24995</th>\n",
       "      <td>C:\\Users\\USER\\Desktop\\Image classification\\tra...</td>\n",
       "      <td>dog</td>\n",
       "    </tr>\n",
       "    <tr>\n",
       "      <th>24996</th>\n",
       "      <td>C:\\Users\\USER\\Desktop\\Image classification\\tra...</td>\n",
       "      <td>dog</td>\n",
       "    </tr>\n",
       "    <tr>\n",
       "      <th>24997</th>\n",
       "      <td>C:\\Users\\USER\\Desktop\\Image classification\\tra...</td>\n",
       "      <td>dog</td>\n",
       "    </tr>\n",
       "    <tr>\n",
       "      <th>24998</th>\n",
       "      <td>C:\\Users\\USER\\Desktop\\Image classification\\tra...</td>\n",
       "      <td>dog</td>\n",
       "    </tr>\n",
       "    <tr>\n",
       "      <th>24999</th>\n",
       "      <td>C:\\Users\\USER\\Desktop\\Image classification\\tra...</td>\n",
       "      <td>dog</td>\n",
       "    </tr>\n",
       "  </tbody>\n",
       "</table>\n",
       "<p>25000 rows × 2 columns</p>\n",
       "</div>"
      ],
      "text/plain": [
       "                                                Pictures Names\n",
       "0      C:\\Users\\USER\\Desktop\\Image classification\\tra...   cat\n",
       "1      C:\\Users\\USER\\Desktop\\Image classification\\tra...   cat\n",
       "2      C:\\Users\\USER\\Desktop\\Image classification\\tra...   cat\n",
       "3      C:\\Users\\USER\\Desktop\\Image classification\\tra...   cat\n",
       "4      C:\\Users\\USER\\Desktop\\Image classification\\tra...   cat\n",
       "...                                                  ...   ...\n",
       "24995  C:\\Users\\USER\\Desktop\\Image classification\\tra...   dog\n",
       "24996  C:\\Users\\USER\\Desktop\\Image classification\\tra...   dog\n",
       "24997  C:\\Users\\USER\\Desktop\\Image classification\\tra...   dog\n",
       "24998  C:\\Users\\USER\\Desktop\\Image classification\\tra...   dog\n",
       "24999  C:\\Users\\USER\\Desktop\\Image classification\\tra...   dog\n",
       "\n",
       "[25000 rows x 2 columns]"
      ]
     },
     "execution_count": 5,
     "metadata": {},
     "output_type": "execute_result"
    }
   ],
   "source": [
    "data"
   ]
  },
  {
   "cell_type": "code",
   "execution_count": 7,
   "id": "d9d1735e",
   "metadata": {},
   "outputs": [],
   "source": [
    "datac=data[data[\"Names\"]=='cat']\n",
    "datad=data[data['Names']=='dog']       \n",
    "        "
   ]
  },
  {
   "cell_type": "code",
   "execution_count": 8,
   "id": "47eb0219",
   "metadata": {},
   "outputs": [],
   "source": [
    "datac=datac[:5000]"
   ]
  },
  {
   "cell_type": "code",
   "execution_count": 9,
   "id": "5a3f442e",
   "metadata": {},
   "outputs": [
    {
     "data": {
      "text/html": [
       "<div>\n",
       "<style scoped>\n",
       "    .dataframe tbody tr th:only-of-type {\n",
       "        vertical-align: middle;\n",
       "    }\n",
       "\n",
       "    .dataframe tbody tr th {\n",
       "        vertical-align: top;\n",
       "    }\n",
       "\n",
       "    .dataframe thead th {\n",
       "        text-align: right;\n",
       "    }\n",
       "</style>\n",
       "<table border=\"1\" class=\"dataframe\">\n",
       "  <thead>\n",
       "    <tr style=\"text-align: right;\">\n",
       "      <th></th>\n",
       "      <th>Pictures</th>\n",
       "      <th>Names</th>\n",
       "    </tr>\n",
       "  </thead>\n",
       "  <tbody>\n",
       "    <tr>\n",
       "      <th>0</th>\n",
       "      <td>C:\\Users\\USER\\Desktop\\Image classification\\tra...</td>\n",
       "      <td>cat</td>\n",
       "    </tr>\n",
       "    <tr>\n",
       "      <th>1</th>\n",
       "      <td>C:\\Users\\USER\\Desktop\\Image classification\\tra...</td>\n",
       "      <td>cat</td>\n",
       "    </tr>\n",
       "    <tr>\n",
       "      <th>2</th>\n",
       "      <td>C:\\Users\\USER\\Desktop\\Image classification\\tra...</td>\n",
       "      <td>cat</td>\n",
       "    </tr>\n",
       "    <tr>\n",
       "      <th>3</th>\n",
       "      <td>C:\\Users\\USER\\Desktop\\Image classification\\tra...</td>\n",
       "      <td>cat</td>\n",
       "    </tr>\n",
       "    <tr>\n",
       "      <th>4</th>\n",
       "      <td>C:\\Users\\USER\\Desktop\\Image classification\\tra...</td>\n",
       "      <td>cat</td>\n",
       "    </tr>\n",
       "    <tr>\n",
       "      <th>...</th>\n",
       "      <td>...</td>\n",
       "      <td>...</td>\n",
       "    </tr>\n",
       "    <tr>\n",
       "      <th>4995</th>\n",
       "      <td>C:\\Users\\USER\\Desktop\\Image classification\\tra...</td>\n",
       "      <td>cat</td>\n",
       "    </tr>\n",
       "    <tr>\n",
       "      <th>4996</th>\n",
       "      <td>C:\\Users\\USER\\Desktop\\Image classification\\tra...</td>\n",
       "      <td>cat</td>\n",
       "    </tr>\n",
       "    <tr>\n",
       "      <th>4997</th>\n",
       "      <td>C:\\Users\\USER\\Desktop\\Image classification\\tra...</td>\n",
       "      <td>cat</td>\n",
       "    </tr>\n",
       "    <tr>\n",
       "      <th>4998</th>\n",
       "      <td>C:\\Users\\USER\\Desktop\\Image classification\\tra...</td>\n",
       "      <td>cat</td>\n",
       "    </tr>\n",
       "    <tr>\n",
       "      <th>4999</th>\n",
       "      <td>C:\\Users\\USER\\Desktop\\Image classification\\tra...</td>\n",
       "      <td>cat</td>\n",
       "    </tr>\n",
       "  </tbody>\n",
       "</table>\n",
       "<p>5000 rows × 2 columns</p>\n",
       "</div>"
      ],
      "text/plain": [
       "                                               Pictures Names\n",
       "0     C:\\Users\\USER\\Desktop\\Image classification\\tra...   cat\n",
       "1     C:\\Users\\USER\\Desktop\\Image classification\\tra...   cat\n",
       "2     C:\\Users\\USER\\Desktop\\Image classification\\tra...   cat\n",
       "3     C:\\Users\\USER\\Desktop\\Image classification\\tra...   cat\n",
       "4     C:\\Users\\USER\\Desktop\\Image classification\\tra...   cat\n",
       "...                                                 ...   ...\n",
       "4995  C:\\Users\\USER\\Desktop\\Image classification\\tra...   cat\n",
       "4996  C:\\Users\\USER\\Desktop\\Image classification\\tra...   cat\n",
       "4997  C:\\Users\\USER\\Desktop\\Image classification\\tra...   cat\n",
       "4998  C:\\Users\\USER\\Desktop\\Image classification\\tra...   cat\n",
       "4999  C:\\Users\\USER\\Desktop\\Image classification\\tra...   cat\n",
       "\n",
       "[5000 rows x 2 columns]"
      ]
     },
     "execution_count": 9,
     "metadata": {},
     "output_type": "execute_result"
    }
   ],
   "source": [
    "datac"
   ]
  },
  {
   "cell_type": "code",
   "execution_count": 10,
   "id": "9108c783",
   "metadata": {},
   "outputs": [],
   "source": [
    "datad=datad[:5000]"
   ]
  },
  {
   "cell_type": "code",
   "execution_count": 11,
   "id": "18619915",
   "metadata": {},
   "outputs": [
    {
     "data": {
      "text/html": [
       "<div>\n",
       "<style scoped>\n",
       "    .dataframe tbody tr th:only-of-type {\n",
       "        vertical-align: middle;\n",
       "    }\n",
       "\n",
       "    .dataframe tbody tr th {\n",
       "        vertical-align: top;\n",
       "    }\n",
       "\n",
       "    .dataframe thead th {\n",
       "        text-align: right;\n",
       "    }\n",
       "</style>\n",
       "<table border=\"1\" class=\"dataframe\">\n",
       "  <thead>\n",
       "    <tr style=\"text-align: right;\">\n",
       "      <th></th>\n",
       "      <th>Pictures</th>\n",
       "      <th>Names</th>\n",
       "    </tr>\n",
       "  </thead>\n",
       "  <tbody>\n",
       "    <tr>\n",
       "      <th>12500</th>\n",
       "      <td>C:\\Users\\USER\\Desktop\\Image classification\\tra...</td>\n",
       "      <td>dog</td>\n",
       "    </tr>\n",
       "    <tr>\n",
       "      <th>12501</th>\n",
       "      <td>C:\\Users\\USER\\Desktop\\Image classification\\tra...</td>\n",
       "      <td>dog</td>\n",
       "    </tr>\n",
       "    <tr>\n",
       "      <th>12502</th>\n",
       "      <td>C:\\Users\\USER\\Desktop\\Image classification\\tra...</td>\n",
       "      <td>dog</td>\n",
       "    </tr>\n",
       "    <tr>\n",
       "      <th>12503</th>\n",
       "      <td>C:\\Users\\USER\\Desktop\\Image classification\\tra...</td>\n",
       "      <td>dog</td>\n",
       "    </tr>\n",
       "    <tr>\n",
       "      <th>12504</th>\n",
       "      <td>C:\\Users\\USER\\Desktop\\Image classification\\tra...</td>\n",
       "      <td>dog</td>\n",
       "    </tr>\n",
       "    <tr>\n",
       "      <th>...</th>\n",
       "      <td>...</td>\n",
       "      <td>...</td>\n",
       "    </tr>\n",
       "    <tr>\n",
       "      <th>17495</th>\n",
       "      <td>C:\\Users\\USER\\Desktop\\Image classification\\tra...</td>\n",
       "      <td>dog</td>\n",
       "    </tr>\n",
       "    <tr>\n",
       "      <th>17496</th>\n",
       "      <td>C:\\Users\\USER\\Desktop\\Image classification\\tra...</td>\n",
       "      <td>dog</td>\n",
       "    </tr>\n",
       "    <tr>\n",
       "      <th>17497</th>\n",
       "      <td>C:\\Users\\USER\\Desktop\\Image classification\\tra...</td>\n",
       "      <td>dog</td>\n",
       "    </tr>\n",
       "    <tr>\n",
       "      <th>17498</th>\n",
       "      <td>C:\\Users\\USER\\Desktop\\Image classification\\tra...</td>\n",
       "      <td>dog</td>\n",
       "    </tr>\n",
       "    <tr>\n",
       "      <th>17499</th>\n",
       "      <td>C:\\Users\\USER\\Desktop\\Image classification\\tra...</td>\n",
       "      <td>dog</td>\n",
       "    </tr>\n",
       "  </tbody>\n",
       "</table>\n",
       "<p>5000 rows × 2 columns</p>\n",
       "</div>"
      ],
      "text/plain": [
       "                                                Pictures Names\n",
       "12500  C:\\Users\\USER\\Desktop\\Image classification\\tra...   dog\n",
       "12501  C:\\Users\\USER\\Desktop\\Image classification\\tra...   dog\n",
       "12502  C:\\Users\\USER\\Desktop\\Image classification\\tra...   dog\n",
       "12503  C:\\Users\\USER\\Desktop\\Image classification\\tra...   dog\n",
       "12504  C:\\Users\\USER\\Desktop\\Image classification\\tra...   dog\n",
       "...                                                  ...   ...\n",
       "17495  C:\\Users\\USER\\Desktop\\Image classification\\tra...   dog\n",
       "17496  C:\\Users\\USER\\Desktop\\Image classification\\tra...   dog\n",
       "17497  C:\\Users\\USER\\Desktop\\Image classification\\tra...   dog\n",
       "17498  C:\\Users\\USER\\Desktop\\Image classification\\tra...   dog\n",
       "17499  C:\\Users\\USER\\Desktop\\Image classification\\tra...   dog\n",
       "\n",
       "[5000 rows x 2 columns]"
      ]
     },
     "execution_count": 11,
     "metadata": {},
     "output_type": "execute_result"
    }
   ],
   "source": [
    "datad"
   ]
  },
  {
   "cell_type": "code",
   "execution_count": 12,
   "id": "5cc01823",
   "metadata": {},
   "outputs": [],
   "source": [
    "#for male and female\n",
    "Male=r\"C:\\Users\\USER\\Desktop\\Image classification\\Training\\male\"\n",
    "Female=r\"C:\\Users\\USER\\Desktop\\Image classification\\Training\\female\""
   ]
  },
  {
   "cell_type": "code",
   "execution_count": 13,
   "id": "d15a51af",
   "metadata": {},
   "outputs": [],
   "source": [
    "Male_path=[os.path.join(Male,i) for i in os.listdir(Male)]\n",
    "Female_path=[os.path.join(Female,i) for i in os.listdir(Female)]\n",
    "Male_Pic=[i for i in os.listdir(Male)]\n",
    "Female_Pic=[i for i in os.listdir(Female)]"
   ]
  },
  {
   "cell_type": "code",
   "execution_count": 17,
   "id": "200f59b2",
   "metadata": {},
   "outputs": [],
   "source": [
    "Males=[i.split(\".\")[0] for i in Male_Pic]\n",
    "Females=[i.split(\".\")[0] for i in Female_Pic]"
   ]
  },
  {
   "cell_type": "code",
   "execution_count": 18,
   "id": "9b08bd72",
   "metadata": {},
   "outputs": [],
   "source": [
    "Men=[]\n",
    "Women=[]\n",
    "for name in Males:\n",
    "    name=\"Male\"\n",
    "    Men.append(name)\n",
    "for name in Females:\n",
    "    name=\"Female\"\n",
    "    Women.append(name)"
   ]
  },
  {
   "cell_type": "code",
   "execution_count": 19,
   "id": "e6384931",
   "metadata": {},
   "outputs": [],
   "source": [
    "Male_data=pd.DataFrame({\"Pictures\":Male,\"Names\":Men})\n",
    "Female_data=pd.DataFrame({\"Pictures\":Female,\"Names\":Women})"
   ]
  },
  {
   "cell_type": "code",
   "execution_count": 20,
   "id": "1b6b9424",
   "metadata": {},
   "outputs": [
    {
     "data": {
      "text/plain": [
       "(20000, 25000, 23766, 23243)"
      ]
     },
     "execution_count": 20,
     "metadata": {},
     "output_type": "execute_result"
    }
   ],
   "source": [
    "Paths=[]\n",
    "for name in datac['Pictures']:\n",
    "    Paths.append(name)\n",
    "for name in datad['Pictures']:\n",
    "    Paths.append(name)\n",
    "for name in Male_path[:5000]:\n",
    "    Paths.append(name)\n",
    "for name in Female_path[:5000]:\n",
    "    Paths.append(name)\n",
    "    \n",
    "len(Paths),len(file_path),len(Male_path),len(Female_path)"
   ]
  },
  {
   "cell_type": "code",
   "execution_count": 21,
   "id": "152611ed",
   "metadata": {},
   "outputs": [
    {
     "data": {
      "text/plain": [
       "(20000, 25000, 23766, 23243)"
      ]
     },
     "execution_count": 21,
     "metadata": {},
     "output_type": "execute_result"
    }
   ],
   "source": [
    "Names=[]\n",
    "for name in datac['Names']:\n",
    "    Names.append(name)\n",
    "for name in datad['Names']:\n",
    "    Names.append(name)\n",
    "for name in Men[:5000]:\n",
    "    Names.append(name)\n",
    "for name in Women[:5000]:\n",
    "    Names.append(name)\n",
    "    \n",
    "len(Names),len(targets),len(Men),len(Women)"
   ]
  },
  {
   "cell_type": "code",
   "execution_count": 22,
   "id": "41b0c290",
   "metadata": {},
   "outputs": [
    {
     "data": {
      "text/html": [
       "<div>\n",
       "<style scoped>\n",
       "    .dataframe tbody tr th:only-of-type {\n",
       "        vertical-align: middle;\n",
       "    }\n",
       "\n",
       "    .dataframe tbody tr th {\n",
       "        vertical-align: top;\n",
       "    }\n",
       "\n",
       "    .dataframe thead th {\n",
       "        text-align: right;\n",
       "    }\n",
       "</style>\n",
       "<table border=\"1\" class=\"dataframe\">\n",
       "  <thead>\n",
       "    <tr style=\"text-align: right;\">\n",
       "      <th></th>\n",
       "      <th>Pictures</th>\n",
       "      <th>Names</th>\n",
       "    </tr>\n",
       "  </thead>\n",
       "  <tbody>\n",
       "    <tr>\n",
       "      <th>0</th>\n",
       "      <td>C:\\Users\\USER\\Desktop\\Image classification\\tra...</td>\n",
       "      <td>cat</td>\n",
       "    </tr>\n",
       "    <tr>\n",
       "      <th>1</th>\n",
       "      <td>C:\\Users\\USER\\Desktop\\Image classification\\tra...</td>\n",
       "      <td>cat</td>\n",
       "    </tr>\n",
       "    <tr>\n",
       "      <th>2</th>\n",
       "      <td>C:\\Users\\USER\\Desktop\\Image classification\\tra...</td>\n",
       "      <td>cat</td>\n",
       "    </tr>\n",
       "    <tr>\n",
       "      <th>3</th>\n",
       "      <td>C:\\Users\\USER\\Desktop\\Image classification\\tra...</td>\n",
       "      <td>cat</td>\n",
       "    </tr>\n",
       "    <tr>\n",
       "      <th>4</th>\n",
       "      <td>C:\\Users\\USER\\Desktop\\Image classification\\tra...</td>\n",
       "      <td>cat</td>\n",
       "    </tr>\n",
       "    <tr>\n",
       "      <th>...</th>\n",
       "      <td>...</td>\n",
       "      <td>...</td>\n",
       "    </tr>\n",
       "    <tr>\n",
       "      <th>19995</th>\n",
       "      <td>C:\\Users\\USER\\Desktop\\Image classification\\Tra...</td>\n",
       "      <td>Female</td>\n",
       "    </tr>\n",
       "    <tr>\n",
       "      <th>19996</th>\n",
       "      <td>C:\\Users\\USER\\Desktop\\Image classification\\Tra...</td>\n",
       "      <td>Female</td>\n",
       "    </tr>\n",
       "    <tr>\n",
       "      <th>19997</th>\n",
       "      <td>C:\\Users\\USER\\Desktop\\Image classification\\Tra...</td>\n",
       "      <td>Female</td>\n",
       "    </tr>\n",
       "    <tr>\n",
       "      <th>19998</th>\n",
       "      <td>C:\\Users\\USER\\Desktop\\Image classification\\Tra...</td>\n",
       "      <td>Female</td>\n",
       "    </tr>\n",
       "    <tr>\n",
       "      <th>19999</th>\n",
       "      <td>C:\\Users\\USER\\Desktop\\Image classification\\Tra...</td>\n",
       "      <td>Female</td>\n",
       "    </tr>\n",
       "  </tbody>\n",
       "</table>\n",
       "<p>20000 rows × 2 columns</p>\n",
       "</div>"
      ],
      "text/plain": [
       "                                                Pictures   Names\n",
       "0      C:\\Users\\USER\\Desktop\\Image classification\\tra...     cat\n",
       "1      C:\\Users\\USER\\Desktop\\Image classification\\tra...     cat\n",
       "2      C:\\Users\\USER\\Desktop\\Image classification\\tra...     cat\n",
       "3      C:\\Users\\USER\\Desktop\\Image classification\\tra...     cat\n",
       "4      C:\\Users\\USER\\Desktop\\Image classification\\tra...     cat\n",
       "...                                                  ...     ...\n",
       "19995  C:\\Users\\USER\\Desktop\\Image classification\\Tra...  Female\n",
       "19996  C:\\Users\\USER\\Desktop\\Image classification\\Tra...  Female\n",
       "19997  C:\\Users\\USER\\Desktop\\Image classification\\Tra...  Female\n",
       "19998  C:\\Users\\USER\\Desktop\\Image classification\\Tra...  Female\n",
       "19999  C:\\Users\\USER\\Desktop\\Image classification\\Tra...  Female\n",
       "\n",
       "[20000 rows x 2 columns]"
      ]
     },
     "execution_count": 22,
     "metadata": {},
     "output_type": "execute_result"
    }
   ],
   "source": [
    "Data=pd.DataFrame({\"Pictures\":Paths,\"Names\":Names})\n",
    "Data              "
   ]
  },
  {
   "cell_type": "code",
   "execution_count": 23,
   "id": "039d0486",
   "metadata": {},
   "outputs": [
    {
     "data": {
      "text/plain": [
       "cat       5000\n",
       "dog       5000\n",
       "Male      5000\n",
       "Female    5000\n",
       "Name: Names, dtype: int64"
      ]
     },
     "execution_count": 23,
     "metadata": {},
     "output_type": "execute_result"
    }
   ],
   "source": [
    "Data['Names'].value_counts()"
   ]
  },
  {
   "cell_type": "code",
   "execution_count": 24,
   "id": "a6001d1f",
   "metadata": {},
   "outputs": [],
   "source": [
    "from keras.utils import img_to_array"
   ]
  },
  {
   "cell_type": "code",
   "execution_count": 25,
   "id": "2b31188f",
   "metadata": {},
   "outputs": [],
   "source": [
    "import scipy.misc"
   ]
  },
  {
   "cell_type": "code",
   "execution_count": 26,
   "id": "50f3ca7b",
   "metadata": {},
   "outputs": [],
   "source": [
    "import imageio"
   ]
  },
  {
   "cell_type": "code",
   "execution_count": 27,
   "id": "9a614a94",
   "metadata": {},
   "outputs": [],
   "source": [
    "from PIL import Image"
   ]
  },
  {
   "cell_type": "code",
   "execution_count": 28,
   "id": "0da8d152",
   "metadata": {},
   "outputs": [],
   "source": [
    "Pics=[]\n",
    "label=[]\n",
    "for pic in Data['Pictures']:\n",
    "    img=imageio.v2.imread(pic)\n",
    "    img=np.array(Image.fromarray(img).resize(size=(64,64)))  \n",
    "    img= img_to_array(img)\n",
    "    Pics.append(img)\n",
    "    "
   ]
  },
  {
   "cell_type": "code",
   "execution_count": 29,
   "id": "2454075f",
   "metadata": {},
   "outputs": [],
   "source": [
    "for name in Data['Names']:\n",
    "    if name=='cat':\n",
    "        label.append(0)\n",
    "    elif name=='dog':\n",
    "        label.append(1)\n",
    "    elif name=='Male':\n",
    "        label.append(2)\n",
    "    else:\n",
    "        label.append(3)"
   ]
  },
  {
   "cell_type": "code",
   "execution_count": 30,
   "id": "eea9bde3",
   "metadata": {},
   "outputs": [],
   "source": [
    "Pics=np.array(Pics,dtype=\"float\")/255.0\n",
    "label=np.array(label)"
   ]
  },
  {
   "cell_type": "code",
   "execution_count": 31,
   "id": "95d4ea70",
   "metadata": {},
   "outputs": [],
   "source": [
    "from sklearn.model_selection import train_test_split\n",
    "x_train,x_test,y_train,y_test=train_test_split(Pics,label,test_size=0.3,random_state=42)"
   ]
  },
  {
   "cell_type": "code",
   "execution_count": 32,
   "id": "59a27c9c",
   "metadata": {},
   "outputs": [],
   "source": [
    "import keras"
   ]
  },
  {
   "cell_type": "code",
   "execution_count": 33,
   "id": "eb9de1f4",
   "metadata": {},
   "outputs": [],
   "source": [
    "y_train=keras.utils.to_categorical(y_train,num_classes=4)\n",
    "y_test=keras.utils.to_categorical(y_test,num_classes=4)"
   ]
  },
  {
   "cell_type": "code",
   "execution_count": 34,
   "id": "fe669ce9",
   "metadata": {},
   "outputs": [],
   "source": [
    "import tensorflow as tf"
   ]
  },
  {
   "cell_type": "code",
   "execution_count": 35,
   "id": "78497040",
   "metadata": {},
   "outputs": [],
   "source": [
    "from tensorflow.keras.preprocessing.image import load_img"
   ]
  },
  {
   "cell_type": "code",
   "execution_count": 36,
   "id": "5ede5ad7",
   "metadata": {},
   "outputs": [],
   "source": [
    "import keras\n",
    "from keras.models import Sequential\n",
    "from keras.layers import Dense, Dropout, Flatten\n",
    "from keras.layers import Conv2D, MaxPooling2D, MaxPool2D\n",
    "from keras import backend as K"
   ]
  },
  {
   "cell_type": "code",
   "execution_count": 37,
   "id": "5b24c6e8",
   "metadata": {},
   "outputs": [],
   "source": [
    "model=Sequential()\n",
    "model.add(Conv2D(32,kernel_size=(3,3),activation=\"relu\",input_shape=(64,64,3)))\n",
    "model.add(MaxPool2D((2,2)))\n",
    "model.add(Conv2D(64, (3,3), activation='relu'))\n",
    "model.add(MaxPool2D((2,2)))\n",
    "model.add(Flatten())\n",
    "model.add(Dense(64,activation=\"relu\"))\n",
    "model.add(Dense(4,activation=\"softmax\"))"
   ]
  },
  {
   "cell_type": "code",
   "execution_count": 38,
   "id": "4fa21b6e",
   "metadata": {},
   "outputs": [],
   "source": [
    "model.compile(optimizer=tf.keras.optimizers.Adam(learning_rate=0.001),loss=\"categorical_crossentropy\",metrics=[\"accuracy\"])"
   ]
  },
  {
   "cell_type": "code",
   "execution_count": 39,
   "id": "8cc74a79",
   "metadata": {
    "scrolled": true
   },
   "outputs": [
    {
     "name": "stdout",
     "output_type": "stream",
     "text": [
      "Epoch 1/15\n",
      "438/438 [==============================] - 100s 219ms/step - loss: 0.5990 - accuracy: 0.7014 - val_loss: 0.4289 - val_accuracy: 0.8022\n",
      "Epoch 2/15\n",
      "438/438 [==============================] - 102s 234ms/step - loss: 0.4143 - accuracy: 0.8078 - val_loss: 0.3959 - val_accuracy: 0.8208\n",
      "Epoch 3/15\n",
      "438/438 [==============================] - 106s 242ms/step - loss: 0.3562 - accuracy: 0.8414 - val_loss: 0.3776 - val_accuracy: 0.8297\n",
      "Epoch 4/15\n",
      "438/438 [==============================] - 109s 249ms/step - loss: 0.3095 - accuracy: 0.8639 - val_loss: 0.3605 - val_accuracy: 0.8395\n",
      "Epoch 5/15\n",
      "438/438 [==============================] - 109s 248ms/step - loss: 0.2822 - accuracy: 0.8760 - val_loss: 0.3636 - val_accuracy: 0.8365\n",
      "Epoch 6/15\n",
      "438/438 [==============================] - 110s 251ms/step - loss: 0.2498 - accuracy: 0.8904 - val_loss: 0.3918 - val_accuracy: 0.8272\n",
      "Epoch 7/15\n",
      "438/438 [==============================] - 111s 254ms/step - loss: 0.2137 - accuracy: 0.9094 - val_loss: 0.3872 - val_accuracy: 0.8352\n",
      "Epoch 8/15\n",
      "438/438 [==============================] - 113s 259ms/step - loss: 0.1832 - accuracy: 0.9231 - val_loss: 0.4023 - val_accuracy: 0.8320\n",
      "Epoch 9/15\n",
      "438/438 [==============================] - 113s 258ms/step - loss: 0.1461 - accuracy: 0.9404 - val_loss: 0.4455 - val_accuracy: 0.8408\n",
      "Epoch 10/15\n",
      "438/438 [==============================] - 115s 263ms/step - loss: 0.1166 - accuracy: 0.9528 - val_loss: 0.5014 - val_accuracy: 0.8307\n",
      "Epoch 11/15\n",
      "438/438 [==============================] - 114s 260ms/step - loss: 0.0915 - accuracy: 0.9654 - val_loss: 0.5149 - val_accuracy: 0.8385\n",
      "Epoch 12/15\n",
      "438/438 [==============================] - 115s 262ms/step - loss: 0.0660 - accuracy: 0.9763 - val_loss: 0.6070 - val_accuracy: 0.8397\n",
      "Epoch 13/15\n",
      "438/438 [==============================] - 115s 262ms/step - loss: 0.0531 - accuracy: 0.9812 - val_loss: 0.7004 - val_accuracy: 0.8275\n",
      "Epoch 14/15\n",
      "438/438 [==============================] - 114s 261ms/step - loss: 0.0412 - accuracy: 0.9863 - val_loss: 0.7253 - val_accuracy: 0.8323\n",
      "Epoch 15/15\n",
      "438/438 [==============================] - 117s 267ms/step - loss: 0.0434 - accuracy: 0.9851 - val_loss: 0.7617 - val_accuracy: 0.8172\n"
     ]
    },
    {
     "data": {
      "text/plain": [
       "<keras.callbacks.History at 0x225d20bce20>"
      ]
     },
     "execution_count": 39,
     "metadata": {},
     "output_type": "execute_result"
    }
   ],
   "source": [
    "model.fit(x_train,y_train,epochs=15,validation_data=(x_test,y_test),shuffle=True)"
   ]
  },
  {
   "cell_type": "code",
   "execution_count": 40,
   "id": "112ef0fe",
   "metadata": {},
   "outputs": [],
   "source": [
    "save_path=\"./model8.h5\"\n",
    "model.save(save_path)\n",
    "model=keras.models.load_model(save_path)"
   ]
  },
  {
   "cell_type": "code",
   "execution_count": null,
   "id": "a7b43ed2",
   "metadata": {},
   "outputs": [],
   "source": []
  },
  {
   "cell_type": "code",
   "execution_count": null,
   "id": "42df3791",
   "metadata": {},
   "outputs": [],
   "source": []
  }
 ],
 "metadata": {
  "kernelspec": {
   "display_name": "Python 3 (ipykernel)",
   "language": "python",
   "name": "python3"
  },
  "language_info": {
   "codemirror_mode": {
    "name": "ipython",
    "version": 3
   },
   "file_extension": ".py",
   "mimetype": "text/x-python",
   "name": "python",
   "nbconvert_exporter": "python",
   "pygments_lexer": "ipython3",
   "version": "3.10.4"
  }
 },
 "nbformat": 4,
 "nbformat_minor": 5
}
